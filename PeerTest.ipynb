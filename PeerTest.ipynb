{
 "cells": [
  {
   "cell_type": "markdown",
   "id": "9ea9c187-fb03-49de-ac0e-b5c4175ad4db",
   "metadata": {},
   "source": [
    "Name: Peer-graded_Assignment_Submitting_My_Work"
   ]
  },
  {
   "cell_type": "markdown",
   "id": "2c23b5a8-2bb2-47cd-8b1b-67c49f5ddb11",
   "metadata": {},
   "source": [
    "Data Science Tools and Ecosystem"
   ]
  },
  {
   "cell_type": "markdown",
   "id": "4279a4ec-5f5b-4033-a5e8-3df76bd88e9e",
   "metadata": {},
   "source": [
    "In this notebook, Data Science Tools and Ecosystem are summarized.\n",
    "\n",
    "\n",
    "Objectives:\n",
    "\n",
    "List popular languages that Data Scientists use.\n",
    "List commonly used libraries used by Data Scientists.\n",
    "Comment on Data Science tools."
   ]
  },
  {
   "cell_type": "markdown",
   "id": "f3343f3b-9f78-488d-adcf-d9477a62987c",
   "metadata": {},
   "source": [
    "Exercise 4 - Create a markdown cell to list data science languages. (3 pts)\n",
    "\n",
    "Some of the popular languages that Data Scientists use are:\n",
    "\n",
    "1.Python.\n",
    "2. R.\n",
    "3. SQL.\n",
    "4. Java.\n",
    "5. Julia.\n",
    "6. Scala.\n",
    "7. C/C++.\n",
    "8. JavaScript."
   ]
  },
  {
   "cell_type": "markdown",
   "id": "4a309df0-1afc-43be-be57-5a2f3108507a",
   "metadata": {},
   "source": [
    "1. **TensorFlow** - Popular deep learning library developed by Google  \n",
    "2. **NumPy** - Fundamental library for numerical computing in Python  \n",
    "3. **SciPy** - Library for scientific and technical computing  \n",
    "4. **Pandas** - Powerful data structures for data manipulation and analysis  \n",
    "5. **Matplotlib** - Plotting and visualization library  \n",
    "6. **Keras** - High-level neural networks API, runs on top of TensorFlow  \n",
    "7. **SciKit-Learn** - Machine learning library for Python  \n",
    "8. **PyTorch** - Deep learning framework developed by Facebook  \n",
    "9. **Scrapy** - Web scraping framework  \n",
    "10. **BeautifulSoup** - Library for parsing HTML and XML documents  \n",
    "11. **LightGBM** - Gradient boosting framework for machine learning  \n",
    "12. **ELI5** - Machine learning model interpretation and debugging library  \n",
    "13. **Theano** - Numerical computation library that supports deep learning  \n",
    "14. **NuPIC** - Neural network for prediction and anomaly detection  \n",
    "15. **Ramp** - Framework for data science competitions and analysis  \n",
    "16. **Pipenv** - Tool for managing dependencies in Python  \n",
    "17. **Bob** - Machine learning and computer vision library  \n",
    "18. **PyBrain** - Machine learning library for Python  \n",
    "19. **Caffe2** - Deep learning framework by Facebook  \n",
    "20. **Chainer** - Deep learning framework known for its flexibility  \n"
   ]
  },
  {
   "cell_type": "markdown",
   "id": "3a2d1dc9-b5c8-40ca-897e-e592ed46b0d5",
   "metadata": {},
   "source": [
    "| Data Science Tools           |\n",
    "|------------------------------|\n",
    "| SAS                          |\n",
    "| Apache Spark                 |\n",
    "| BigML                        |\n"
   ]
  },
  {
   "cell_type": "code",
   "execution_count": 6,
   "id": "47418c1e-e125-4bba-97a2-4b3c5517ef3d",
   "metadata": {},
   "outputs": [
    {
     "data": {
      "text/plain": [
       "9"
      ]
     },
     "execution_count": 6,
     "metadata": {},
     "output_type": "execute_result"
    }
   ],
   "source": [
    "# Arithmetic operations\n",
    "code = compile(\"5 + 4\", \"<string>\", \"eval\")\n",
    "eval(code)\n",
    "# Result: 9"
   ]
  },
  {
   "cell_type": "code",
   "execution_count": 7,
   "id": "1cce5f48-1874-4b08-9971-38d5c5fcf423",
   "metadata": {},
   "outputs": [
    {
     "data": {
      "text/plain": [
       "24"
      ]
     },
     "execution_count": 7,
     "metadata": {},
     "output_type": "execute_result"
    }
   ],
   "source": [
    "code1 = compile(\"(5 + 7) * 2\", \"<string>\", \"eval\")\n",
    "eval(code1)\n",
    "# Result: 24"
   ]
  },
  {
   "cell_type": "code",
   "execution_count": 8,
   "id": "52c35383-2365-4fdd-aa74-fcf7cbf01dc3",
   "metadata": {},
   "outputs": [
    {
     "data": {
      "text/plain": [
       "65449.84694978735"
      ]
     },
     "execution_count": 8,
     "metadata": {},
     "output_type": "execute_result"
    }
   ],
   "source": [
    "import math\n",
    "# Volume of a sphere\n",
    "code2 = compile(\"4 / 3 * math.pi * math.pow(25, 3)\", \"<string>\", \"eval\")\n",
    "eval(code2)\n",
    "# Result: 65449.84694978735"
   ]
  },
  {
   "cell_type": "code",
   "execution_count": 9,
   "id": "dcd51a1d-c5f7-42f1-968b-bf813677e6f9",
   "metadata": {},
   "outputs": [
    {
     "data": {
      "text/plain": [
       "17"
      ]
     },
     "execution_count": 9,
     "metadata": {},
     "output_type": "execute_result"
    }
   ],
   "source": [
    "(3*4)+5\n",
    "# Result: 17"
   ]
  },
  {
   "cell_type": "code",
   "execution_count": 10,
   "id": "3984d880-bcdd-4b8a-babc-8a3267a2552f",
   "metadata": {},
   "outputs": [
    {
     "name": "stdout",
     "output_type": "stream",
     "text": [
      "0 days, 3.3333333333333335 hours, 0 mins. \n"
     ]
    }
   ],
   "source": [
    "#This will convert 200 minutes to hours by diving by 60\n",
    "\n",
    "days = 0\n",
    "hours = 0\n",
    "mins = 0\n",
    "\n",
    "time = 200\n",
    "#days = time / 1440\n",
    "leftover_minutes = time % 1440\n",
    "hours = leftover_minutes / 60\n",
    "#mins = time - (days*1440) - (hours*60)\n",
    "print(str(days) + \" days, \" + str(hours) + \" hours, \" + str(mins) +  \" mins. \")\n",
    "\n",
    "# Result: 3.3333333333333335 hours"
   ]
  },
  {
   "cell_type": "markdown",
   "id": "b441ddb2-ff4d-49f5-9fd9-aae9a0751686",
   "metadata": {},
   "source": [
    "**Objectives:**\n",
    "\n",
    "- List popular languages that Data Scientists use.\n",
    "- List commonly used libraries used by Data Scientists.\n",
    "- Comment on Data Science tools.\n"
   ]
  },
  {
   "cell_type": "markdown",
   "id": "0219403b-df3a-4cc6-8737-75ec73de8399",
   "metadata": {},
   "source": [
    "<h1>Author Name : Nidhi Gupta</h1>"
   ]
  },
  {
   "cell_type": "code",
   "execution_count": null,
   "id": "1dcba1a4-5c4c-4380-969e-728a92edf395",
   "metadata": {},
   "outputs": [],
   "source": []
  }
 ],
 "metadata": {
  "kernelspec": {
   "display_name": "Python 3 (ipykernel)",
   "language": "python",
   "name": "python3"
  },
  "language_info": {
   "codemirror_mode": {
    "name": "ipython",
    "version": 3
   },
   "file_extension": ".py",
   "mimetype": "text/x-python",
   "name": "python",
   "nbconvert_exporter": "python",
   "pygments_lexer": "ipython3",
   "version": "3.11.9"
  }
 },
 "nbformat": 4,
 "nbformat_minor": 5
}
